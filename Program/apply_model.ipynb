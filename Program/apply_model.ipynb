{
  "cells": [
    {
      "cell_type": "markdown",
      "metadata": {
        "id": "view-in-github",
        "colab_type": "text"
      },
      "source": [
        "<a href=\"https://colab.research.google.com/github/ZoloKiala/Dung_model/blob/main/Program/apply_model.ipynb\" target=\"_parent\"><img src=\"https://colab.research.google.com/assets/colab-badge.svg\" alt=\"Open In Colab\"/></a>"
      ]
    },
    {
      "cell_type": "code",
      "execution_count": null,
      "metadata": {
        "id": "UX2YHrGwOuUN"
      },
      "outputs": [],
      "source": [
        "# Install tpot on the server\n",
        "!pip install tpot"
      ]
    },
    {
      "cell_type": "code",
      "execution_count": null,
      "metadata": {
        "id": "uhBlHuGpO2n6"
      },
      "outputs": [],
      "source": [
        "from google.colab import files\n",
        "files.upload() #Upload the model, helpers.py and my_func.py files"
      ]
    },
    {
      "cell_type": "code",
      "execution_count": 4,
      "metadata": {
        "id": "J20FP1Kml31p"
      },
      "outputs": [],
      "source": [
        "from my_func import *"
      ]
    },
    {
      "cell_type": "code",
      "execution_count": 6,
      "metadata": {
        "colab": {
          "base_uri": "https://localhost:8080/"
        },
        "id": "QSVm-ITCj-Ab",
        "outputId": "1b45458c-e86b-49b8-9311-9d7549191e56"
      },
      "outputs": [
        {
          "output_type": "stream",
          "name": "stdout",
          "text": [
            "Mounted at /content/gdrive\n"
          ]
        }
      ],
      "source": [
        "from google.colab import drive\n",
        "drive.mount('/content/gdrive', force_remount=True)"
      ]
    },
    {
      "cell_type": "code",
      "execution_count": 13,
      "metadata": {
        "id": "TZjPystrnnut"
      },
      "outputs": [],
      "source": [
        "model = 'model_tpot.sav'\n",
        "input_path = 'gdrive/My Drive/Dung_model/data/merge1.tif' # The downloaded imaged or the location path of your choice in gdrive\n",
        "output_path = 'gdrive/My Drive/Dung_model/data/classified_tpot.tif' # classified image or the location path of your choice in gdrive"
      ]
    },
    {
      "cell_type": "code",
      "execution_count": 14,
      "metadata": {
        "id": "b-2kgtCWjMEb"
      },
      "outputs": [],
      "source": [
        "apply_model(model, input_path, output_path)"
      ]
    },
    {
      "cell_type": "code",
      "execution_count": null,
      "metadata": {
        "id": "eK2rx5FEYOz8"
      },
      "outputs": [],
      "source": [
        ""
      ]
    }
  ],
  "metadata": {
    "colab": {
      "collapsed_sections": [],
      "name": "apply_model.ipynb",
      "provenance": [],
      "include_colab_link": true
    },
    "kernelspec": {
      "display_name": "Python 3",
      "name": "python3"
    }
  },
  "nbformat": 4,
  "nbformat_minor": 0
}