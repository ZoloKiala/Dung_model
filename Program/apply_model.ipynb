{
  "cells": [
    {
      "cell_type": "code",
      "execution_count": null,
      "metadata": {
        "id": "UX2YHrGwOuUN"
      },
      "outputs": [],
      "source": [
        "# Install tpot on the server\n",
        "!pip install tpot"
      ]
    },
    {
      "cell_type": "code",
      "execution_count": null,
      "metadata": {
        "id": "uhBlHuGpO2n6"
      },
      "outputs": [],
      "source": [
        "from google.colab import files\n",
        "files.upload() #Uplaod saved models or your raster files"
      ]
    },
    {
      "cell_type": "code",
      "execution_count": null,
      "metadata": {
        "id": "J20FP1Kml31p"
      },
      "outputs": [],
      "source": [
        "from my_func import *"
      ]
    },
    {
      "cell_type": "code",
      "execution_count": null,
      "metadata": {
        "colab": {
          "base_uri": "https://localhost:8080/"
        },
        "id": "QSVm-ITCj-Ab",
        "outputId": "497c717a-1c1b-4e70-b619-b893d3ac7476"
      },
      "outputs": [
        {
          "name": "stdout",
          "output_type": "stream",
          "text": [
            "Mounted at /content/gdrive\n"
          ]
        }
      ],
      "source": [
        "from google.colab import drive\n",
        "drive.mount('/content/gdrive', force_remount=True)"
      ]
    },
    {
      "cell_type": "code",
      "execution_count": null,
      "metadata": {
        "id": "TZjPystrnnut"
      },
      "outputs": [],
      "source": [
        "model = 'model_tpot.sav'\n",
        "input_path = 'gdrive/My Drive/tpot/merge1.tif' # The downloaded imaged\n",
        "output_path = 'gdrive/My Drive/tpot/classified_tpot.tif'"
      ]
    },
    {
      "cell_type": "code",
      "execution_count": null,
      "metadata": {
        "id": "b-2kgtCWjMEb"
      },
      "outputs": [],
      "source": [
        "apply_model(model, input_path, output_path)"
      ]
    },
    {
      "cell_type": "code",
      "execution_count": null,
      "metadata": {
        "colab": {
          "background_save": true,
          "base_uri": "https://localhost:8080/"
        },
        "id": "e6fHWKa_YOcM",
        "outputId": "d2cce2da-befb-4560-bc83-94006eabccb6"
      },
      "outputs": [
        {
          "name": "stdout",
          "output_type": "stream",
          "text": [
            "Collecting geemap\n",
            "  Downloading geemap-0.11.5-py2.py3-none-any.whl (1.9 MB)\n",
            "\u001b[K     |████████████████████████████████| 1.9 MB 22.0 MB/s \n",
            "\u001b[?25hCollecting pycrs\n",
            "  Downloading PyCRS-1.0.2.tar.gz (36 kB)\n",
            "Requirement already satisfied: earthengine-api>=0.1.230 in /usr/local/lib/python3.7/dist-packages (from geemap) (0.1.299)\n",
            "Collecting colour\n",
            "  Downloading colour-0.1.5-py2.py3-none-any.whl (23 kB)\n",
            "Requirement already satisfied: palettable in /usr/local/lib/python3.7/dist-packages (from geemap) (3.3.0)\n",
            "Collecting whiteboxgui>=0.6.0\n",
            "  Downloading whiteboxgui-0.7.0-py2.py3-none-any.whl (99 kB)\n",
            "\u001b[K     |████████████████████████████████| 99 kB 9.2 MB/s \n",
            "\u001b[?25hCollecting ee-extra>=0.0.10\n",
            "  Downloading ee_extra-0.0.10.tar.gz (176 kB)\n",
            "\u001b[K     |████████████████████████████████| 176 kB 57.1 MB/s \n",
            "\u001b[?25hCollecting ipyfilechooser>=0.6.0\n",
            "  Downloading ipyfilechooser-0.6.0-py3-none-any.whl (11 kB)\n",
            "Collecting python-box\n",
            "  Downloading python_box-5.4.1-py3-none-any.whl (21 kB)\n",
            "Collecting bqplot\n",
            "  Downloading bqplot-0.12.33-py2.py3-none-any.whl (1.2 MB)\n",
            "\u001b[K     |████████████████████████████████| 1.2 MB 46.5 MB/s \n",
            "\u001b[?25hRequirement already satisfied: pandas in /usr/local/lib/python3.7/dist-packages (from geemap) (1.3.5)\n",
            "Collecting folium>=0.11.0\n",
            "  Downloading folium-0.12.1.post1-py2.py3-none-any.whl (95 kB)\n",
            "\u001b[K     |████████████████████████████████| 95 kB 3.8 MB/s \n",
            "\u001b[?25hCollecting ipytree\n",
            "  Downloading ipytree-0.2.1-py2.py3-none-any.whl (1.3 MB)\n",
            "\u001b[K     |████████████████████████████████| 1.3 MB 47.1 MB/s \n",
            "\u001b[?25hCollecting here-map-widget-for-jupyter>=1.1.1\n",
            "  Downloading here_map_widget_for_jupyter-1.1.3-py2.py3-none-any.whl (5.4 MB)\n",
            "\u001b[K     |████████████████████████████████| 5.4 MB 54.8 MB/s \n",
            "\u001b[?25hCollecting sankee\n",
            "  Downloading sankee-0.0.7.tar.gz (29 kB)\n",
            "Collecting geocoder\n",
            "  Downloading geocoder-1.38.1-py2.py3-none-any.whl (98 kB)\n",
            "\u001b[K     |████████████████████████████████| 98 kB 8.7 MB/s \n",
            "\u001b[?25hCollecting geojson\n",
            "  Downloading geojson-2.5.0-py2.py3-none-any.whl (14 kB)\n",
            "Collecting voila\n",
            "  Downloading voila-0.3.2-py3-none-any.whl (1.7 MB)\n",
            "\u001b[K     |████████████████████████████████| 1.7 MB 57.2 MB/s \n",
            "\u001b[?25hCollecting ipyleaflet>=0.14.0\n",
            "  Downloading ipyleaflet-0.15.0-py2.py3-none-any.whl (3.3 MB)\n",
            "\u001b[K     |████████████████████████████████| 3.3 MB 57.4 MB/s \n",
            "\u001b[?25hRequirement already satisfied: click in /usr/local/lib/python3.7/dist-packages (from geemap) (7.1.2)\n",
            "Requirement already satisfied: pillow in /usr/local/lib/python3.7/dist-packages (from geemap) (7.1.2)\n",
            "Collecting geeadd>=0.5.1\n",
            "  Downloading geeadd-0.5.5-py3-none-any.whl (30 kB)\n",
            "Requirement already satisfied: plotly in /usr/local/lib/python3.7/dist-packages (from geemap) (5.5.0)\n",
            "Collecting jupyterlab>=3\n",
            "  Downloading jupyterlab-3.2.9-py3-none-any.whl (8.5 MB)\n",
            "\u001b[K     |████████████████████████████████| 8.5 MB 45.3 MB/s \n",
            "\u001b[?25hCollecting pyshp>=2.1.3\n",
            "  Downloading pyshp-2.2.0-py3-none-any.whl (44 kB)\n",
            "\u001b[K     |████████████████████████████████| 44 kB 2.3 MB/s \n",
            "\u001b[?25hCollecting xyzservices\n",
            "  Downloading xyzservices-2022.2.0-py3-none-any.whl (35 kB)\n",
            "Collecting owslib\n",
            "  Downloading OWSLib-0.25.0-py2.py3-none-any.whl (216 kB)\n",
            "\u001b[K     |████████████████████████████████| 216 kB 65.1 MB/s \n",
            "\u001b[?25hCollecting ffmpeg-python\n",
            "  Downloading ffmpeg_python-0.2.0-py3-none-any.whl (25 kB)\n",
            "Requirement already satisfied: googledrivedownloader in /usr/local/lib/python3.7/dist-packages (from geemap) (0.4)\n",
            "Requirement already satisfied: numpy in /usr/local/lib/python3.7/dist-packages (from geemap) (1.21.5)\n",
            "Requirement already satisfied: matplotlib in /usr/local/lib/python3.7/dist-packages (from geemap) (3.2.2)\n",
            "Collecting ipynb-py-convert\n",
            "  Downloading ipynb-py-convert-0.4.6.tar.gz (3.9 kB)\n",
            "Collecting ipyevents\n",
            "  Downloading ipyevents-2.0.1-py2.py3-none-any.whl (130 kB)\n",
            "\u001b[K     |████████████████████████████████| 130 kB 52.9 MB/s \n",
            "\u001b[?25hCollecting mss\n",
            "  Downloading mss-6.1.0-py3-none-any.whl (76 kB)\n",
            "\u001b[K     |████████████████████████████████| 76 kB 4.7 MB/s \n",
            "\u001b[?25hRequirement already satisfied: httplib2<1dev,>=0.9.2 in /usr/local/lib/python3.7/dist-packages (from earthengine-api>=0.1.230->geemap) (0.17.4)\n",
            "Requirement already satisfied: google-cloud-storage in /usr/local/lib/python3.7/dist-packages (from earthengine-api>=0.1.230->geemap) (1.18.1)\n",
            "Requirement already satisfied: future in /usr/local/lib/python3.7/dist-packages (from earthengine-api>=0.1.230->geemap) (0.16.0)\n",
            "Requirement already satisfied: six in /usr/local/lib/python3.7/dist-packages (from earthengine-api>=0.1.230->geemap) (1.15.0)\n",
            "Requirement already satisfied: google-auth-httplib2>=0.0.3 in /usr/local/lib/python3.7/dist-packages (from earthengine-api>=0.1.230->geemap) (0.0.4)\n",
            "Requirement already satisfied: httplib2shim in /usr/local/lib/python3.7/dist-packages (from earthengine-api>=0.1.230->geemap) (0.0.3)\n",
            "Requirement already satisfied: google-auth>=1.4.1 in /usr/local/lib/python3.7/dist-packages (from earthengine-api>=0.1.230->geemap) (1.35.0)\n",
            "Requirement already satisfied: google-api-python-client<2,>=1.12.1 in /usr/local/lib/python3.7/dist-packages (from earthengine-api>=0.1.230->geemap) (1.12.10)\n",
            "Requirement already satisfied: jinja2>=2.9 in /usr/local/lib/python3.7/dist-packages (from folium>=0.11.0->geemap) (2.11.3)\n",
            "Requirement already satisfied: requests in /usr/local/lib/python3.7/dist-packages (from folium>=0.11.0->geemap) (2.23.0)\n",
            "Requirement already satisfied: branca>=0.3.0 in /usr/local/lib/python3.7/dist-packages (from folium>=0.11.0->geemap) (0.4.2)\n",
            "Collecting beautifulsoup4>=4.9.0\n",
            "  Downloading beautifulsoup4-4.10.0-py3-none-any.whl (97 kB)\n",
            "\u001b[K     |████████████████████████████████| 97 kB 6.7 MB/s \n",
            "\u001b[?25hCollecting logzero>=1.5.0\n",
            "  Downloading logzero-1.7.0-py2.py3-none-any.whl (16 kB)\n",
            "Collecting soupsieve>1.2\n",
            "  Downloading soupsieve-2.3.1-py3-none-any.whl (37 kB)\n",
            "Requirement already satisfied: google-api-core<3dev,>=1.21.0 in /usr/local/lib/python3.7/dist-packages (from google-api-python-client<2,>=1.12.1->earthengine-api>=0.1.230->geemap) (1.26.3)\n",
            "Requirement already satisfied: uritemplate<4dev,>=3.0.0 in /usr/local/lib/python3.7/dist-packages (from google-api-python-client<2,>=1.12.1->earthengine-api>=0.1.230->geemap) (3.0.1)\n",
            "Requirement already satisfied: googleapis-common-protos<2.0dev,>=1.6.0 in /usr/local/lib/python3.7/dist-packages (from google-api-core<3dev,>=1.21.0->google-api-python-client<2,>=1.12.1->earthengine-api>=0.1.230->geemap) (1.54.0)\n",
            "Requirement already satisfied: setuptools>=40.3.0 in /usr/local/lib/python3.7/dist-packages (from google-api-core<3dev,>=1.21.0->google-api-python-client<2,>=1.12.1->earthengine-api>=0.1.230->geemap) (57.4.0)\n",
            "Requirement already satisfied: protobuf>=3.12.0 in /usr/local/lib/python3.7/dist-packages (from google-api-core<3dev,>=1.21.0->google-api-python-client<2,>=1.12.1->earthengine-api>=0.1.230->geemap) (3.17.3)\n",
            "Requirement already satisfied: packaging>=14.3 in /usr/local/lib/python3.7/dist-packages (from google-api-core<3dev,>=1.21.0->google-api-python-client<2,>=1.12.1->earthengine-api>=0.1.230->geemap) (21.3)\n",
            "Requirement already satisfied: pytz in /usr/local/lib/python3.7/dist-packages (from google-api-core<3dev,>=1.21.0->google-api-python-client<2,>=1.12.1->earthengine-api>=0.1.230->geemap) (2018.9)\n",
            "Requirement already satisfied: pyasn1-modules>=0.2.1 in /usr/local/lib/python3.7/dist-packages (from google-auth>=1.4.1->earthengine-api>=0.1.230->geemap) (0.2.8)\n",
            "Requirement already satisfied: cachetools<5.0,>=2.0.0 in /usr/local/lib/python3.7/dist-packages (from google-auth>=1.4.1->earthengine-api>=0.1.230->geemap) (4.2.4)\n",
            "Requirement already satisfied: rsa<5,>=3.1.4 in /usr/local/lib/python3.7/dist-packages (from google-auth>=1.4.1->earthengine-api>=0.1.230->geemap) (4.8)\n",
            "Requirement already satisfied: ipywidgets<8,>=7.6.0 in /usr/local/lib/python3.7/dist-packages (from here-map-widget-for-jupyter>=1.1.1->geemap) (7.6.5)\n",
            "Collecting traittypes<3,>=0.2.1\n",
            "  Downloading traittypes-0.2.1-py2.py3-none-any.whl (8.6 kB)\n",
            "Requirement already satisfied: jupyterlab-widgets>=1.0.0 in /usr/local/lib/python3.7/dist-packages (from ipywidgets<8,>=7.6.0->here-map-widget-for-jupyter>=1.1.1->geemap) (1.0.2)\n",
            "Requirement already satisfied: widgetsnbextension~=3.5.0 in /usr/local/lib/python3.7/dist-packages (from ipywidgets<8,>=7.6.0->here-map-widget-for-jupyter>=1.1.1->geemap) (3.5.2)\n",
            "Requirement already satisfied: traitlets>=4.3.1 in /usr/local/lib/python3.7/dist-packages (from ipywidgets<8,>=7.6.0->here-map-widget-for-jupyter>=1.1.1->geemap) (5.1.1)\n",
            "Requirement already satisfied: ipython-genutils~=0.2.0 in /usr/local/lib/python3.7/dist-packages (from ipywidgets<8,>=7.6.0->here-map-widget-for-jupyter>=1.1.1->geemap) (0.2.0)\n",
            "Requirement already satisfied: ipykernel>=4.5.1 in /usr/local/lib/python3.7/dist-packages (from ipywidgets<8,>=7.6.0->here-map-widget-for-jupyter>=1.1.1->geemap) (4.10.1)\n",
            "Requirement already satisfied: nbformat>=4.2.0 in /usr/local/lib/python3.7/dist-packages (from ipywidgets<8,>=7.6.0->here-map-widget-for-jupyter>=1.1.1->geemap) (5.1.3)\n",
            "Requirement already satisfied: ipython>=4.0.0 in /usr/local/lib/python3.7/dist-packages (from ipywidgets<8,>=7.6.0->here-map-widget-for-jupyter>=1.1.1->geemap) (5.5.0)\n",
            "Requirement already satisfied: jupyter-client in /usr/local/lib/python3.7/dist-packages (from ipykernel>=4.5.1->ipywidgets<8,>=7.6.0->here-map-widget-for-jupyter>=1.1.1->geemap) (5.3.5)\n",
            "Requirement already satisfied: tornado>=4.0 in /usr/local/lib/python3.7/dist-packages (from ipykernel>=4.5.1->ipywidgets<8,>=7.6.0->here-map-widget-for-jupyter>=1.1.1->geemap) (5.1.1)\n",
            "Requirement already satisfied: prompt-toolkit<2.0.0,>=1.0.4 in /usr/local/lib/python3.7/dist-packages (from ipython>=4.0.0->ipywidgets<8,>=7.6.0->here-map-widget-for-jupyter>=1.1.1->geemap) (1.0.18)\n",
            "Requirement already satisfied: simplegeneric>0.8 in /usr/local/lib/python3.7/dist-packages (from ipython>=4.0.0->ipywidgets<8,>=7.6.0->here-map-widget-for-jupyter>=1.1.1->geemap) (0.8.1)\n",
            "Requirement already satisfied: pexpect in /usr/local/lib/python3.7/dist-packages (from ipython>=4.0.0->ipywidgets<8,>=7.6.0->here-map-widget-for-jupyter>=1.1.1->geemap) (4.8.0)\n",
            "Requirement already satisfied: decorator in /usr/local/lib/python3.7/dist-packages (from ipython>=4.0.0->ipywidgets<8,>=7.6.0->here-map-widget-for-jupyter>=1.1.1->geemap) (4.4.2)\n",
            "Requirement already satisfied: pygments in /usr/local/lib/python3.7/dist-packages (from ipython>=4.0.0->ipywidgets<8,>=7.6.0->here-map-widget-for-jupyter>=1.1.1->geemap) (2.6.1)\n",
            "Requirement already satisfied: pickleshare in /usr/local/lib/python3.7/dist-packages (from ipython>=4.0.0->ipywidgets<8,>=7.6.0->here-map-widget-for-jupyter>=1.1.1->geemap) (0.7.5)\n",
            "Requirement already satisfied: MarkupSafe>=0.23 in /usr/local/lib/python3.7/dist-packages (from jinja2>=2.9->folium>=0.11.0->geemap) (2.0.1)\n",
            "Requirement already satisfied: jupyter-core in /usr/local/lib/python3.7/dist-packages (from jupyterlab>=3->geemap) (4.9.2)\n",
            "Collecting tornado>=4.0\n",
            "  Downloading tornado-6.1-cp37-cp37m-manylinux2010_x86_64.whl (428 kB)\n",
            "\u001b[K     |████████████████████████████████| 428 kB 49.5 MB/s \n",
            "\u001b[?25hCollecting nbclassic~=0.2\n",
            "  Downloading nbclassic-0.3.5-py3-none-any.whl (25 kB)\n",
            "Collecting jupyter-server~=1.4\n",
            "  Downloading jupyter_server-1.13.5-py3-none-any.whl (397 kB)\n",
            "\u001b[K     |████████████████████████████████| 397 kB 28.8 MB/s \n",
            "\u001b[?25hCollecting jupyterlab-server~=2.3\n",
            "  Downloading jupyterlab_server-2.10.3-py3-none-any.whl (61 kB)\n",
            "\u001b[K     |████████████████████████████████| 61 kB 7.9 MB/s \n",
            "\u001b[?25hRequirement already satisfied: pyzmq>=17 in /usr/local/lib/python3.7/dist-packages (from jupyter-server~=1.4->jupyterlab>=3->geemap) (22.3.0)\n",
            "Requirement already satisfied: nbconvert in /usr/local/lib/python3.7/dist-packages (from jupyter-server~=1.4->jupyterlab>=3->geemap) (5.6.1)\n",
            "Collecting websocket-client\n",
            "  Downloading websocket_client-1.3.1-py3-none-any.whl (54 kB)\n",
            "\u001b[K     |████████████████████████████████| 54 kB 2.3 MB/s \n",
            "\u001b[?25hRequirement already satisfied: prometheus-client in /usr/local/lib/python3.7/dist-packages (from jupyter-server~=1.4->jupyterlab>=3->geemap) (0.13.1)\n",
            "Requirement already satisfied: terminado>=0.8.3 in /usr/local/lib/python3.7/dist-packages (from jupyter-server~=1.4->jupyterlab>=3->geemap) (0.13.1)\n",
            "Requirement already satisfied: argon2-cffi in /usr/local/lib/python3.7/dist-packages (from jupyter-server~=1.4->jupyterlab>=3->geemap) (21.3.0)\n",
            "Collecting jupyter-client\n",
            "  Downloading jupyter_client-7.1.2-py3-none-any.whl (130 kB)\n",
            "\u001b[K     |████████████████████████████████| 130 kB 59.2 MB/s \n",
            "\u001b[?25hCollecting anyio<4,>=3.1.0\n",
            "  Downloading anyio-3.5.0-py3-none-any.whl (79 kB)\n",
            "\u001b[K     |████████████████████████████████| 79 kB 7.5 MB/s \n",
            "\u001b[?25hRequirement already satisfied: Send2Trash in /usr/local/lib/python3.7/dist-packages (from jupyter-server~=1.4->jupyterlab>=3->geemap) (1.8.0)\n",
            "Requirement already satisfied: typing-extensions in /usr/local/lib/python3.7/dist-packages (from anyio<4,>=3.1.0->jupyter-server~=1.4->jupyterlab>=3->geemap) (3.10.0.2)\n",
            "Collecting sniffio>=1.1\n",
            "  Downloading sniffio-1.2.0-py3-none-any.whl (10 kB)\n",
            "Requirement already satisfied: idna>=2.8 in /usr/local/lib/python3.7/dist-packages (from anyio<4,>=3.1.0->jupyter-server~=1.4->jupyterlab>=3->geemap) (2.10)\n",
            "Requirement already satisfied: python-dateutil>=2.1 in /usr/local/lib/python3.7/dist-packages (from jupyter-client->ipykernel>=4.5.1->ipywidgets<8,>=7.6.0->here-map-widget-for-jupyter>=1.1.1->geemap) (2.8.2)\n",
            "Requirement already satisfied: nest-asyncio>=1.5 in /usr/local/lib/python3.7/dist-packages (from jupyter-client->ipykernel>=4.5.1->ipywidgets<8,>=7.6.0->here-map-widget-for-jupyter>=1.1.1->geemap) (1.5.4)\n",
            "Requirement already satisfied: entrypoints in /usr/local/lib/python3.7/dist-packages (from jupyter-client->ipykernel>=4.5.1->ipywidgets<8,>=7.6.0->here-map-widget-for-jupyter>=1.1.1->geemap) (0.4)\n",
            "Collecting json5\n",
            "  Downloading json5-0.9.6-py2.py3-none-any.whl (18 kB)\n",
            "Requirement already satisfied: babel in /usr/local/lib/python3.7/dist-packages (from jupyterlab-server~=2.3->jupyterlab>=3->geemap) (2.9.1)\n",
            "Requirement already satisfied: jsonschema>=3.0.1 in /usr/local/lib/python3.7/dist-packages (from jupyterlab-server~=2.3->jupyterlab>=3->geemap) (4.3.3)\n",
            "Requirement already satisfied: attrs>=17.4.0 in /usr/local/lib/python3.7/dist-packages (from jsonschema>=3.0.1->jupyterlab-server~=2.3->jupyterlab>=3->geemap) (21.4.0)\n",
            "Requirement already satisfied: pyrsistent!=0.17.0,!=0.17.1,!=0.17.2,>=0.14.0 in /usr/local/lib/python3.7/dist-packages (from jsonschema>=3.0.1->jupyterlab-server~=2.3->jupyterlab>=3->geemap) (0.18.1)\n",
            "Requirement already satisfied: importlib-metadata in /usr/local/lib/python3.7/dist-packages (from jsonschema>=3.0.1->jupyterlab-server~=2.3->jupyterlab>=3->geemap) (4.11.1)\n",
            "Requirement already satisfied: importlib-resources>=1.4.0 in /usr/local/lib/python3.7/dist-packages (from jsonschema>=3.0.1->jupyterlab-server~=2.3->jupyterlab>=3->geemap) (5.4.0)\n",
            "Requirement already satisfied: zipp>=3.1.0 in /usr/local/lib/python3.7/dist-packages (from importlib-resources>=1.4.0->jsonschema>=3.0.1->jupyterlab-server~=2.3->jupyterlab>=3->geemap) (3.7.0)\n",
            "Requirement already satisfied: notebook<7 in /usr/local/lib/python3.7/dist-packages (from nbclassic~=0.2->jupyterlab>=3->geemap) (5.3.1)\n",
            "Requirement already satisfied: pyparsing!=3.0.5,>=2.0.2 in /usr/local/lib/python3.7/dist-packages (from packaging>=14.3->google-api-core<3dev,>=1.21.0->google-api-python-client<2,>=1.12.1->earthengine-api>=0.1.230->geemap) (3.0.7)\n",
            "Requirement already satisfied: wcwidth in /usr/local/lib/python3.7/dist-packages (from prompt-toolkit<2.0.0,>=1.0.4->ipython>=4.0.0->ipywidgets<8,>=7.6.0->here-map-widget-for-jupyter>=1.1.1->geemap) (0.2.5)\n",
            "Requirement already satisfied: pyasn1<0.5.0,>=0.4.6 in /usr/local/lib/python3.7/dist-packages (from pyasn1-modules>=0.2.1->google-auth>=1.4.1->earthengine-api>=0.1.230->geemap) (0.4.8)\n",
            "Requirement already satisfied: chardet<4,>=3.0.2 in /usr/local/lib/python3.7/dist-packages (from requests->folium>=0.11.0->geemap) (3.0.4)\n",
            "Requirement already satisfied: certifi>=2017.4.17 in /usr/local/lib/python3.7/dist-packages (from requests->folium>=0.11.0->geemap) (2021.10.8)\n",
            "Requirement already satisfied: urllib3!=1.25.0,!=1.25.1,<1.26,>=1.21.1 in /usr/local/lib/python3.7/dist-packages (from requests->folium>=0.11.0->geemap) (1.24.3)\n",
            "Requirement already satisfied: ptyprocess in /usr/local/lib/python3.7/dist-packages (from terminado>=0.8.3->jupyter-server~=1.4->jupyterlab>=3->geemap) (0.7.0)\n",
            "Collecting whitebox\n",
            "  Downloading whitebox-2.1.2-py2.py3-none-any.whl (75 kB)\n",
            "\u001b[K     |████████████████████████████████| 75 kB 4.6 MB/s \n",
            "\u001b[?25hRequirement already satisfied: argon2-cffi-bindings in /usr/local/lib/python3.7/dist-packages (from argon2-cffi->jupyter-server~=1.4->jupyterlab>=3->geemap) (21.2.0)\n",
            "Requirement already satisfied: cffi>=1.0.1 in /usr/local/lib/python3.7/dist-packages (from argon2-cffi-bindings->argon2-cffi->jupyter-server~=1.4->jupyterlab>=3->geemap) (1.15.0)\n",
            "Requirement already satisfied: pycparser in /usr/local/lib/python3.7/dist-packages (from cffi>=1.0.1->argon2-cffi-bindings->argon2-cffi->jupyter-server~=1.4->jupyterlab>=3->geemap) (2.21)\n",
            "Collecting ratelim\n",
            "  Downloading ratelim-0.1.6-py2.py3-none-any.whl (4.0 kB)\n",
            "Requirement already satisfied: google-resumable-media<0.5.0dev,>=0.3.1 in /usr/local/lib/python3.7/dist-packages (from google-cloud-storage->earthengine-api>=0.1.230->geemap) (0.4.1)\n",
            "Requirement already satisfied: google-cloud-core<2.0dev,>=1.0.0 in /usr/local/lib/python3.7/dist-packages (from google-cloud-storage->earthengine-api>=0.1.230->geemap) (1.0.3)\n",
            "Requirement already satisfied: cycler>=0.10 in /usr/local/lib/python3.7/dist-packages (from matplotlib->geemap) (0.11.0)\n",
            "Requirement already satisfied: kiwisolver>=1.0.1 in /usr/local/lib/python3.7/dist-packages (from matplotlib->geemap) (1.3.2)\n",
            "Requirement already satisfied: defusedxml in /usr/local/lib/python3.7/dist-packages (from nbconvert->jupyter-server~=1.4->jupyterlab>=3->geemap) (0.7.1)\n",
            "Requirement already satisfied: bleach in /usr/local/lib/python3.7/dist-packages (from nbconvert->jupyter-server~=1.4->jupyterlab>=3->geemap) (4.1.0)\n",
            "Requirement already satisfied: testpath in /usr/local/lib/python3.7/dist-packages (from nbconvert->jupyter-server~=1.4->jupyterlab>=3->geemap) (0.5.0)\n",
            "Requirement already satisfied: mistune<2,>=0.8.1 in /usr/local/lib/python3.7/dist-packages (from nbconvert->jupyter-server~=1.4->jupyterlab>=3->geemap) (0.8.4)\n",
            "Requirement already satisfied: pandocfilters>=1.4.1 in /usr/local/lib/python3.7/dist-packages (from nbconvert->jupyter-server~=1.4->jupyterlab>=3->geemap) (1.5.0)\n",
            "Requirement already satisfied: webencodings in /usr/local/lib/python3.7/dist-packages (from bleach->nbconvert->jupyter-server~=1.4->jupyterlab>=3->geemap) (0.5.1)\n",
            "Requirement already satisfied: pyyaml in /usr/local/lib/python3.7/dist-packages (from owslib->geemap) (3.13)\n",
            "Collecting pyproj>=2\n",
            "  Downloading pyproj-3.2.1-cp37-cp37m-manylinux2010_x86_64.whl (6.3 MB)\n",
            "\u001b[K     |████████████████████████████████| 6.3 MB 51.9 MB/s \n",
            "\u001b[?25hRequirement already satisfied: tenacity>=6.2.0 in /usr/local/lib/python3.7/dist-packages (from plotly->geemap) (8.0.1)\n",
            "Requirement already satisfied: nbclient<0.6,>=0.4.0 in /usr/local/lib/python3.7/dist-packages (from voila->geemap) (0.5.11)\n",
            "Collecting websockets>=9.0\n",
            "  Downloading websockets-10.2-cp37-cp37m-manylinux_2_5_x86_64.manylinux1_x86_64.manylinux_2_12_x86_64.manylinux2010_x86_64.whl (111 kB)\n",
            "\u001b[K     |████████████████████████████████| 111 kB 75.5 MB/s \n",
            "\u001b[?25hCollecting nbconvert\n",
            "  Downloading nbconvert-6.4.2-py3-none-any.whl (558 kB)\n",
            "\u001b[K     |████████████████████████████████| 558 kB 65.2 MB/s \n",
            "\u001b[?25hRequirement already satisfied: jupyterlab-pygments in /usr/local/lib/python3.7/dist-packages (from nbconvert->jupyter-server~=1.4->jupyterlab>=3->geemap) (0.1.2)\n",
            "Building wheels for collected packages: ee-extra, ipynb-py-convert, pycrs, sankee\n",
            "  Building wheel for ee-extra (setup.py) ... \u001b[?25l\u001b[?25hdone\n",
            "  Created wheel for ee-extra: filename=ee_extra-0.0.10-py3-none-any.whl size=186748 sha256=091e0f628cbe6ccf7dc718922aba9dc410b9f5ccf699c763a8ee737645673022\n",
            "  Stored in directory: /root/.cache/pip/wheels/17/e0/8f/c3553eed58285eb5fec73002519406ef543a949fee1c96c3c8\n",
            "  Building wheel for ipynb-py-convert (setup.py) ... \u001b[?25l\u001b[?25hdone\n",
            "  Created wheel for ipynb-py-convert: filename=ipynb_py_convert-0.4.6-py3-none-any.whl size=4640 sha256=4ddf469b31c9e1babe47823cc362928d4f5d0ba3ac34850f1d71e12f523843a5\n",
            "  Stored in directory: /root/.cache/pip/wheels/af/31/a9/761b134adbbca3c92d491eff3bad785c0a0c0079695d6f0504\n",
            "  Building wheel for pycrs (setup.py) ... \u001b[?25l\u001b[?25hdone\n",
            "  Created wheel for pycrs: filename=PyCRS-1.0.2-py3-none-any.whl size=32704 sha256=be17d1b64986f60c6f6b183864c95f5517f4e12584a82ae974682e8f6de8d882\n",
            "  Stored in directory: /root/.cache/pip/wheels/3e/ce/32/1ec0aba6b9770681a423e82f0274c57d09ad2c20c2864901f9\n",
            "  Building wheel for sankee (setup.py) ... \u001b[?25l\u001b[?25hdone\n",
            "  Created wheel for sankee: filename=sankee-0.0.7-py3-none-any.whl size=27639 sha256=3321eee1f01f09deaf50beb216a5f78dc8a6e3c2f19f5ee8a9bdb1ea21b18b32\n",
            "  Stored in directory: /root/.cache/pip/wheels/13/28/83/5726f82a8cb0baf76169d99ee0595c420afedb9020e22bbd4b\n",
            "Successfully built ee-extra ipynb-py-convert pycrs sankee\n",
            "Installing collected packages: tornado, jupyter-client, nbconvert, sniffio, websocket-client, anyio, soupsieve, jupyter-server, json5, xyzservices, whitebox, websockets, traittypes, ratelim, pyproj, nbclassic, logzero, jupyterlab-server, ipytree, ipyfilechooser, beautifulsoup4, whiteboxgui, voila, sankee, python-box, pyshp, pycrs, owslib, mss, jupyterlab, ipynb-py-convert, ipyleaflet, ipyevents, here-map-widget-for-jupyter, geojson, geocoder, geeadd, folium, ffmpeg-python, ee-extra, colour, bqplot, geemap\n",
            "  Attempting uninstall: tornado\n",
            "    Found existing installation: tornado 5.1.1\n",
            "    Uninstalling tornado-5.1.1:\n",
            "      Successfully uninstalled tornado-5.1.1\n",
            "  Attempting uninstall: jupyter-client\n",
            "    Found existing installation: jupyter-client 5.3.5\n",
            "    Uninstalling jupyter-client-5.3.5:\n",
            "      Successfully uninstalled jupyter-client-5.3.5\n",
            "  Attempting uninstall: nbconvert\n",
            "    Found existing installation: nbconvert 5.6.1\n",
            "    Uninstalling nbconvert-5.6.1:\n",
            "      Successfully uninstalled nbconvert-5.6.1\n",
            "  Attempting uninstall: beautifulsoup4\n",
            "    Found existing installation: beautifulsoup4 4.6.3\n",
            "    Uninstalling beautifulsoup4-4.6.3:\n",
            "      Successfully uninstalled beautifulsoup4-4.6.3\n",
            "  Attempting uninstall: folium\n",
            "    Found existing installation: folium 0.8.3\n",
            "    Uninstalling folium-0.8.3:\n",
            "      Successfully uninstalled folium-0.8.3\n",
            "\u001b[31mERROR: pip's dependency resolver does not currently take into account all the packages that are installed. This behaviour is the source of the following dependency conflicts.\n",
            "google-colab 1.0.0 requires tornado~=5.1.0; python_version >= \"3.0\", but you have tornado 6.1 which is incompatible.\n",
            "datascience 0.10.6 requires folium==0.2.1, but you have folium 0.12.1.post1 which is incompatible.\u001b[0m\n",
            "Successfully installed anyio-3.5.0 beautifulsoup4-4.10.0 bqplot-0.12.33 colour-0.1.5 ee-extra-0.0.10 ffmpeg-python-0.2.0 folium-0.12.1.post1 geeadd-0.5.5 geemap-0.11.5 geocoder-1.38.1 geojson-2.5.0 here-map-widget-for-jupyter-1.1.3 ipyevents-2.0.1 ipyfilechooser-0.6.0 ipyleaflet-0.15.0 ipynb-py-convert-0.4.6 ipytree-0.2.1 json5-0.9.6 jupyter-client-7.1.2 jupyter-server-1.13.5 jupyterlab-3.2.9 jupyterlab-server-2.10.3 logzero-1.7.0 mss-6.1.0 nbclassic-0.3.5 nbconvert-6.4.2 owslib-0.25.0 pycrs-1.0.2 pyproj-3.2.1 pyshp-2.2.0 python-box-5.4.1 ratelim-0.1.6 sankee-0.0.7 sniffio-1.2.0 soupsieve-2.3.1 tornado-6.1 traittypes-0.2.1 voila-0.3.2 websocket-client-1.3.1 websockets-10.2 whitebox-2.1.2 whiteboxgui-0.7.0 xyzservices-2022.2.0\n"
          ]
        },
        {
          "data": {
            "application/vnd.colab-display-data+json": {
              "pip_warning": {
                "packages": [
                  "jupyter_client",
                  "tornado"
                ]
              }
            }
          },
          "metadata": {},
          "output_type": "display_data"
        }
      ],
      "source": [
        "!pip install geemap\n",
        "import os\n",
        "import geemap"
      ]
    },
    {
      "cell_type": "code",
      "execution_count": null,
      "metadata": {
        "id": "eK2rx5FEYOz8"
      },
      "outputs": [],
      "source": [
        ""
      ]
    },
    {
      "cell_type": "code",
      "execution_count": null,
      "metadata": {
        "id": "JxnkdDErYYO9"
      },
      "outputs": [],
      "source": [
        ""
      ]
    },
    {
      "cell_type": "code",
      "execution_count": null,
      "metadata": {
        "id": "nnQjJZR7YYci"
      },
      "outputs": [],
      "source": [
        ""
      ]
    }
  ],
  "metadata": {
    "colab": {
      "collapsed_sections": [],
      "name": "arch_auto_ml_tpot.ipynb",
      "provenance": []
    },
    "kernelspec": {
      "display_name": "Python 3",
      "name": "python3"
    }
  },
  "nbformat": 4,
  "nbformat_minor": 0
}